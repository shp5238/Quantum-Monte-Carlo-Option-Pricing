{
 "cells": [
  {
   "cell_type": "markdown",
   "id": "daf978b8",
   "metadata": {},
   "source": [
    "# Quantum Monte Carlo for Option Pricing"
   ]
  },
  {
   "cell_type": "markdown",
   "id": "8a1d6c9d",
   "metadata": {},
   "source": [
    "#### By Shreya Pasupuleti"
   ]
  },
  {
   "cell_type": "markdown",
   "id": "4f62c5ed",
   "metadata": {},
   "source": [
    "## Project Description"
   ]
  },
  {
   "cell_type": "markdown",
   "id": "1fa41271",
   "metadata": {},
   "source": [
    "Hello! My name is Shreya. I built this project to explore the use of quantum computing techniques to simulate randomness in financial modelling, specifically for pricing call options. I will compare the classical Monte Carlo method to a quantum-enhanced approach that uses quantum-generated random numbers. "
   ]
  },
  {
   "cell_type": "markdown",
   "id": "ac0e1679",
   "metadata": {},
   "source": [
    "By doing this, I hope to understand how quantum technology can be used in financial applications, especially in contexts where randomness and simulation are core components. "
   ]
  },
  {
   "cell_type": "markdown",
   "id": "124cec10",
   "metadata": {},
   "source": [
    "## Project Goals"
   ]
  },
  {
   "cell_type": "markdown",
   "id": "d24d2ac3",
   "metadata": {},
   "source": [
    "- demonstrate industry knowledge of terms and definitions\n",
    "- build a classical Monte Carlo simulator to price options\n",
    "- implement a Quantum Random Number Generator (QRNG)\n",
    "- replace classical randomness with quantum randomness to simulate stock price paths"
   ]
  },
  {
   "cell_type": "markdown",
   "id": "6324daa8",
   "metadata": {},
   "source": [
    "## Background Information"
   ]
  },
  {
   "cell_type": "markdown",
   "id": "006ddae9",
   "metadata": {},
   "source": [
    "### Finance"
   ]
  },
  {
   "cell_type": "markdown",
   "id": "a71d91e6",
   "metadata": {},
   "source": [
    "**Call-option**: financial contract that grants the buyer the right, but not the obligation, to purchase a specific asset (like a stock, bond, or commodity) at a predetermined price (the strike price) within a specific time period (the expiration date). The buyer pays a premium to the seller for this right.  \n",
    "- gives the buyer the right to by at price K at time T\n",
    "- stock price follos a Geometric Brownian Motion\n",
    "- Monte Carlo simulates many paths to estimate the estimated payoff. "
   ]
  },
  {
   "cell_type": "markdown",
   "id": "5c6a063a",
   "metadata": {},
   "source": [
    "**Payoff Formula:**"
   ]
  },
  {
   "cell_type": "markdown",
   "id": "b532ce35",
   "metadata": {},
   "source": [
    "$$\n",
    "C\\ =\\ e^{-rT}\\cdot\\frac{1}{N}\\sum_{i=1}^{N}\\max\\left(S_{T}^{\\left(i\\right)}-\\ K,\\ 0\\right)\n",
    "$$"
   ]
  },
  {
   "cell_type": "markdown",
   "id": "79fcea5c",
   "metadata": {},
   "source": [
    "Useful Terms to Know: \n",
    "- $S_0$: initial stock price\n",
    "- $K$: strike price \n",
    "- $T$: time to maturity \n",
    "- $r$: risk-free interest rate\n",
    "- $sigma$: volatility\n",
    "- $N$: number of simulations"
   ]
  },
  {
   "cell_type": "markdown",
   "id": "bc6e2ff0",
   "metadata": {},
   "source": [
    "**Stock Simulation Formula:**"
   ]
  },
  {
   "cell_type": "markdown",
   "id": "fc7cd907",
   "metadata": {},
   "source": [
    "$$\n",
    "S_{T}\\ =\\ S_{0}\\cdot\\ e^{\\left(\\left(r-\\frac{1}{2}\\sigma^{2}\\right)T+\\sigma Z\\sqrt{T}\\right)}\n",
    "$$"
   ]
  },
  {
   "cell_type": "markdown",
   "id": "edc20afa",
   "metadata": {},
   "source": [
    "where Z ∼ N(0,1)"
   ]
  },
  {
   "cell_type": "code",
   "execution_count": 1,
   "id": "d71a0eac",
   "metadata": {},
   "outputs": [],
   "source": [
    "import numpy as np\n",
    "\n",
    "def classical_monte_carlo_option_price(S0, K, T, r, sigma, N):\n",
    "    dt = T\n",
    "    ST = S0 * np.exp((r - 0.5 * sigma ** 2) * dt + sigma * np.random.randn(N) * np.sqrt(dt))\n",
    "    payoff = np.maximum(ST - K, 0)\n",
    "    return np.exp(-r * T) * np.mean(payoff)"
   ]
  },
  {
   "cell_type": "markdown",
   "id": "3a269beb",
   "metadata": {},
   "source": [
    "### Quantum"
   ]
  },
  {
   "cell_type": "markdown",
   "id": "92aaf72f",
   "metadata": {},
   "source": [
    "- **q-bit**: basic unit of data for quantum computations; can be 0, 1, or any superposition of these states. \n",
    "- **Hadamard gate**: creates a 50-50 superposition (useful for randomness). \n",
    "- **QRNG**: uses qubit measurement to produce true randomness.  "
   ]
  },
  {
   "cell_type": "markdown",
   "id": "ce174e51",
   "metadata": {},
   "source": [
    "**Why use a QRNG?**\n",
    "- In Monte Carlo option pricing, the quality of randomness directly impacts the accuracy of results. Traditional pseudorandom number generators can introduce bias or repetition, potentially leading to pricing errors or vulnerabilities in sensitive applications. By using a Quantum Random Number Generator (QRNG), we ensure truly random, unbiased inputs derived from quantum phenomena. This enhances the reliability of financial simulations and reduces the risk of subtle errors or security flaws. QRNG services like QRNG.CH or AQN provide fast, on-demand quantum randomness with no human intervention, making them ideal for high-integrity computational finance."
   ]
  },
  {
   "cell_type": "markdown",
   "id": "26089692",
   "metadata": {},
   "source": [
    "### Code: Quantum Monte Carlo Option Pricing using ANU QRNG"
   ]
  },
  {
   "cell_type": "markdown",
   "id": "862d7b57",
   "metadata": {},
   "source": [
    "Note: this is a classical QRNG Monte Carlo algorithm.\n",
    "- runs on a CPU\n",
    "- converges to O(1/sqrtN)"
   ]
  },
  {
   "cell_type": "markdown",
   "id": "2b737f7b",
   "metadata": {},
   "source": [
    "#### Installation"
   ]
  },
  {
   "cell_type": "code",
   "execution_count": 2,
   "id": "c83f2123",
   "metadata": {},
   "outputs": [
    {
     "name": "stdout",
     "output_type": "stream",
     "text": [
      "Requirement already satisfied: python-dotenv in ./anaconda3/lib/python3.10/site-packages (1.1.0)\n",
      "Note: you may need to restart the kernel to use updated packages.\n"
     ]
    }
   ],
   "source": [
    "pip install python-dotenv"
   ]
  },
  {
   "cell_type": "code",
   "execution_count": 3,
   "id": "d7d07d99",
   "metadata": {},
   "outputs": [],
   "source": [
    "#imports \n",
    "import numpy as np\n",
    "import matplotlib.pyplot as plt\n",
    "import requests\n",
    "import time\n",
    "import os \n",
    "from dotenv import load_dotenv"
   ]
  },
  {
   "cell_type": "code",
   "execution_count": 4,
   "id": "fcaac3ca",
   "metadata": {},
   "outputs": [],
   "source": [
    "#parameters\n",
    "S0 = 100        # Initial stock price\n",
    "K = 100         # Strike price\n",
    "T = 1.0         # Time to maturity (1 year)\n",
    "r = 0.05        # Risk-free interest rate\n",
    "sigma = 0.2     # Volatility\n",
    "N = 10000 #must be <= 100_000     # Number of simulations"
   ]
  },
  {
   "cell_type": "code",
   "execution_count": 5,
   "id": "9b20c706",
   "metadata": {},
   "outputs": [],
   "source": [
    "#ANU QRNG Configuration\n",
    "url = \"https://api.quantumnumbers.anu.edu.au\"\n",
    "dataType = \"uint8\" # Options: uint8, uint16, hex8, hex16  # 0 to 255\n",
    "batch = 1024 # number of random numbers per request (max 1024)"
   ]
  },
  {
   "cell_type": "markdown",
   "id": "10886717",
   "metadata": {},
   "source": [
    "#### Getting the API key\n",
    "1. Go to the following website:\n",
    "https://quantumnumbers.anu.edu.au\n",
    "2. Sign up and verify your email with the code provided. \n",
    "    - you should be able to view the API key and copy it. \n",
    "3. Create a new file with the extension .env\n",
    "    - ensure it is located within the same directory as this Jupyter Notebook. "
   ]
  },
  {
   "cell_type": "markdown",
   "id": "6c97df99",
   "metadata": {},
   "source": [
    "**Example .env File:**"
   ]
  },
  {
   "cell_type": "raw",
   "id": "243b8a67",
   "metadata": {},
   "source": [
    "secretKey = \"your_api_key_here\""
   ]
  },
  {
   "cell_type": "code",
   "execution_count": 6,
   "id": "90d96078",
   "metadata": {},
   "outputs": [],
   "source": [
    "#load api key from .env file \n",
    "load_dotenv(\"QMonteCarloKey.env\") #your .env filename here\n",
    "secretKey = os.getenv(\"secretKey\")\n",
    "if not secretKey: \n",
    "    raise ValueError(\"API key not found. Please set secretKey in a .env file.\")"
   ]
  },
  {
   "cell_type": "code",
   "execution_count": 7,
   "id": "b76e9046",
   "metadata": {},
   "outputs": [],
   "source": [
    "def qrngUniformANU(size, batch=1024):\n",
    "    '''\n",
    "    Generate uniform random numbers using ANU QRNG\n",
    "    Returns values in [0,1)\n",
    "    '''\n",
    "    nums = []\n",
    "    while len(nums) < size: \n",
    "        length = min(batch, size - len(nums))\n",
    "        params = {\n",
    "            'length': length,\n",
    "            'type': dataType,    \n",
    "            'size': '1' # scalar values\n",
    "        }\n",
    "        headers = {\n",
    "            'x-api-key': secretKey\n",
    "        }\n",
    "        try:\n",
    "            response = requests.get(url, params=params, headers = headers,  timeout=10)\n",
    "            if response.status_code == 200:\n",
    "                data = response.json()\n",
    "                if data.get(\"success\"):\n",
    "                    nums.extend(js[\"data\"])\n",
    "                else:\n",
    "                    raise ValueError(f\"API error: {data.get('message')}\")\n",
    "            else:\n",
    "                raise ConnectionError(f\"HTTP error {response.status_code}: {response.text}\")\n",
    "        except Exception as e:\n",
    "            print(f\"ANU QRNG error: {e}\")\n",
    "            print(\"Falling back to pseudorandom generator.\")\n",
    "            return np.random.rand(size)\n",
    "\n",
    "    return np.array(nums) / 255.0"
   ]
  },
  {
   "cell_type": "code",
   "execution_count": 8,
   "id": "751c545b",
   "metadata": {},
   "outputs": [],
   "source": [
    "#QRNG Normal Generator via Box-Muller Transform\n",
    "def qrng_normal(size):\n",
    "    u1 = qrngUniformANU(size // 2)\n",
    "    u2 = qrngUniformANU(size // 2)\n",
    "    z0 = np.sqrt(-2.0 * np.log(u1)) * np.cos(2 * np.pi * u2)\n",
    "    z1 = np.sqrt(-2.0 * np.log(u1)) * np.sin(2 * np.pi * u2)\n",
    "    return np.concatenate([z0, z1])[:size]"
   ]
  },
  {
   "cell_type": "code",
   "execution_count": 9,
   "id": "4a1d728d",
   "metadata": {},
   "outputs": [],
   "source": [
    "#Monte Carlo Pricing using QRNG\n",
    "def monte_carlo_qrng(S0, K, T, r, sigma, N):\n",
    "    Z = qrng_normal(N)\n",
    "    ST = S0 * np.exp((r - 0.5 * sigma ** 2) * T + sigma * np.sqrt(T) * Z)\n",
    "    payoff = np.maximum(ST - K, 0)\n",
    "    option_price = np.exp(-r * T) * np.mean(payoff)\n",
    "    return option_price, ST"
   ]
  },
  {
   "cell_type": "code",
   "execution_count": 10,
   "id": "e96a2664",
   "metadata": {},
   "outputs": [
    {
     "name": "stdout",
     "output_type": "stream",
     "text": [
      "Fetching quantum random numbers from ANU QRNG API and pricing the option...\n",
      "ANU QRNG error: HTTP error 429: {\"message\":\"Limit Exceeded\"}\n",
      "Falling back to pseudorandom generator.\n",
      "ANU QRNG error: HTTP error 429: {\"message\":\"Limit Exceeded\"}\n",
      "Falling back to pseudorandom generator.\n"
     ]
    },
    {
     "data": {
      "image/png": "[encoded data removed]",
      "text/plain": [
       "<Figure size 1000x600 with 1 Axes>"
      ]
     },
     "metadata": {},
     "output_type": "display_data"
    }
   ],
   "source": [
    "#Run Simulation\n",
    "print(\"Fetching quantum random numbers from ANU QRNG API and pricing the option...\")\n",
    "price, ST = monte_carlo_qrng(S0, K, T, r, sigma, N)\n",
    "\n",
    "#Plot Results\n",
    "if ST is not None and isinstance(ST, np.ndarray):\n",
    "    plt.figure(figsize=(10,6))\n",
    "    plt.hist(ST, bins=100, density=True, alpha=0.6, color='royalblue')\n",
    "    plt.axvline(K, color='red', linestyle='--', label=f'Strike Price (${K})')\n",
    "    plt.title('Distribution of Terminal Stock Prices (ANU QRNG)')\n",
    "    plt.xlabel('Terminal Stock Price $S_T$')\n",
    "    plt.ylabel('Probability Density')\n",
    "\n",
    "    plt.figtext(0.5, -0.05, f\"\\nQuantum Monte Carlo estimated call option price: ${price:.4f}\", \n",
    "            wrap=True, horizontalalignment='center', fontsize=14)\n",
    "\n",
    "    #highlight payoff region\n",
    "    plt.axvspan(K, ST.max(), color='seagreen', alpha=0.2, label='Payoff Region')\n",
    "    \n",
    "    plt.grid(True)\n",
    "    plt.legend()\n",
    "    plt.tight_layout()\n",
    "    plt.show()\n",
    "else:\n",
    "    print(\"Error: Stock prices (ST) not generated correctly.\")"
   ]
  },
  {
   "cell_type": "markdown",
   "id": "3862f55f",
   "metadata": {},
   "source": [
    "### Limitations: "
   ]
  },
  {
   "cell_type": "markdown",
   "id": "4f12bdc7",
   "metadata": {},
   "source": [
    "- The free tier of ANU QRNG provides 100 requests per calendar month and 1 request per second. Therefore, this code will default to the psuedorandom generator whenever this limit is reached. "
   ]
  },
  {
   "cell_type": "markdown",
   "id": "1e74fd5e",
   "metadata": {},
   "source": [
    "## Resources: "
   ]
  },
  {
   "cell_type": "markdown",
   "id": "9c8b1a82",
   "metadata": {},
   "source": [
    "* https://www.ibm.com/quantum/blog/quantum-markov-chain-monte-carlo\n",
    "* \"Quantum Computing for Everyone\" by Chris Bernhardt 2019\n",
    "* \"Six Ideas that Shaped Physics\" by Thomas Moore, 4e\n",
    "* https://quantumnumbers.anu.edu.au/faq\n"
   ]
  },
  {
   "cell_type": "markdown",
   "id": "f0f39a1d",
   "metadata": {},
   "source": [
    "## Next Steps: \n",
    "Quantum Amplitude Estimation (Advanced QMC)\n",
    "- QAE offers quadratic speedup over classical MC. "
   ]
  }
 ],
 "metadata": {
  "kernelspec": {
   "display_name": "Python 3 (ipykernel)",
   "language": "python",
   "name": "python3"
  },
  "language_info": {
   "codemirror_mode": {
    "name": "ipython",
    "version": 3
   },
   "file_extension": ".py",
   "mimetype": "text/x-python",
   "name": "python",
   "nbconvert_exporter": "python",
   "pygments_lexer": "ipython3",
   "version": "3.10.9"
  }
 },
 "nbformat": 4,
 "nbformat_minor": 5
}
